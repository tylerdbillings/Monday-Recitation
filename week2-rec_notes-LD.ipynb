{
  "nbformat": 4,
  "nbformat_minor": 0,
  "metadata": {
    "colab": {
      "name": "20200907_rec",
      "provenance": []
    },
    "kernelspec": {
      "name": "python3",
      "display_name": "Python 3"
    }
  },
  "cells": [
    {
      "cell_type": "code",
      "metadata": {
        "id": "XjToppuV-UXy",
        "colab_type": "code",
        "colab": {
          "base_uri": "https://localhost:8080/",
          "height": 34
        },
        "outputId": "29345b42-66c1-431f-9e05-6023b69a0f61"
      },
      "source": [
        "# Remember how we can import constants and functions from libraries?\n",
        "from math import pi # I can now use the constant pi to solve problems.\n",
        "print(pi) # Run to see it returns a number. Neat. Let's use it."
      ],
      "execution_count": 3,
      "outputs": [
        {
          "output_type": "stream",
          "text": [
            "3.141592653589793\n"
          ],
          "name": "stdout"
        }
      ]
    },
    {
      "cell_type": "code",
      "metadata": {
        "id": "M56JFs-Q_aZm",
        "colab_type": "code",
        "colab": {
          "base_uri": "https://localhost:8080/",
          "height": 84
        },
        "outputId": "739e1e55-4a9e-4072-b5bc-f09ea2766be0"
      },
      "source": [
        "# I have a giant beach ball with r = 2.00 m, what is the circumference, surface area, and volume?\n",
        "r = 2.00 # meters\n",
        "circumference = 2*pi*r\n",
        "print(circumference)\n",
        "SA = 4*pi*r**2\n",
        "print(SA)\n",
        "volume = 4/3*pi*r**3\n",
        "print(volume)\n",
        "# Remember how to format our answers? Using sig figs:\n",
        "print(\"circumference = {0:.1f} m, surface area = {1:.1f} m, and volume = {2:.1f} m\".format(circumference,SA,volume))"
      ],
      "execution_count": 36,
      "outputs": [
        {
          "output_type": "stream",
          "text": [
            "12.566370614359172\n",
            "50.26548245743669\n",
            "33.510321638291124\n",
            "circumference = 12.6 m, surface area = 50.3 m, and volume = 33.5 m\n"
          ],
          "name": "stdout"
        }
      ]
    },
    {
      "cell_type": "code",
      "metadata": {
        "id": "knQeUo7YBrWW",
        "colab_type": "code",
        "colab": {
          "base_uri": "https://localhost:8080/",
          "height": 34
        },
        "outputId": "f4926ef5-1b4c-4d8e-a94c-782b35ddbdf6"
      },
      "source": [
        "# You could also import the entire library, which provides access to all sorts of functions. For example:\n",
        "import math as m\n",
        "m.degrees(pi) # This converts radians into degrees.\n",
        "# Constants like e and tau are also in this libaray."
      ],
      "execution_count": 37,
      "outputs": [
        {
          "output_type": "execute_result",
          "data": {
            "text/plain": [
              "180.0"
            ]
          },
          "metadata": {
            "tags": []
          },
          "execution_count": 37
        }
      ]
    },
    {
      "cell_type": "code",
      "metadata": {
        "id": "j7Bj6UyYDAUx",
        "colab_type": "code",
        "colab": {
          "base_uri": "https://localhost:8080/",
          "height": 84
        },
        "outputId": "f5488bc5-b5cd-40e2-b338-0a6411cd92f3"
      },
      "source": [
        "# Another good one is scipy.constants - obviously, scipy proper has more to work with, but I'm keeping it simple for now.\n",
        "from scipy import constants as sc\n",
        "print(sc.c) # This is the speed of light. Could also be called as...\n",
        "print(sc.speed_of_light)\n",
        "# Avogradro's number is similar:\n",
        "print(sc.Avogadro)\n",
        "print(sc.N_A)"
      ],
      "execution_count": 33,
      "outputs": [
        {
          "output_type": "stream",
          "text": [
            "299792458.0\n",
            "299792458.0\n",
            "6.02214076e+23\n",
            "6.02214076e+23\n"
          ],
          "name": "stdout"
        }
      ]
    },
    {
      "cell_type": "markdown",
      "metadata": {
        "id": "AedqOjscGJg6",
        "colab_type": "text"
      },
      "source": [
        "Other constants include Planck/h, g, gas_constant/R, Boltzmann/k, and the mass of atomic particles which follow the pattern particlename_mass/m_firstletter. If you ever have any questions about what you can do with a given library, finding a list of functions and values online is a good place to start. Here's a website I have used in the past: https://docs.python.org/3/contents.html."
      ]
    }
  ]
}