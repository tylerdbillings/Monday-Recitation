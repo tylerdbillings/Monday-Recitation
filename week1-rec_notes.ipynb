{
  "nbformat": 4,
  "nbformat_minor": 0,
  "metadata": {
    "colab": {
      "name": "HW",
      "provenance": [],
      "collapsed_sections": []
    },
    "kernelspec": {
      "name": "python3",
      "display_name": "Python 3"
    }
  },
  "cells": [
    {
      "cell_type": "code",
      "metadata": {
        "id": "PvpKcXLSvPXC",
        "colab_type": "code",
        "colab": {
          "base_uri": "https://localhost:8080/",
          "height": 87
        },
        "outputId": "3688c25c-da71-40a8-e083-766f61750218"
      },
      "source": [
        "#Calculate (in J) the heat to increase the temp of 100 g water from 25.0 to 75.0 degrees.\n",
        "mass_water = 100.00 # g\n",
        "Cp_water = 75.4 # J/mol/K\n",
        "delT = 75.0 - 25.0 # difference, therefore C = K\n",
        "MW_water = 18 # g/mol\n",
        "heat = mass_water/MW_water * Cp_water * delT\n",
        "print(heat, \"J\")\n",
        "print(\"{0:.3g} J\".format(heat))\n",
        "print(\"The heat required to raise the temperature of {0:.2f} g of water by {1:.1f} K is {2:.3g} J.\".format(mass_water,delT,heat))"
      ],
      "execution_count": null,
      "outputs": [
        {
          "output_type": "stream",
          "text": [
            "20944.444444444445 J\n",
            "2.09e+04 J\n",
            "The heat required to raise the temperature of 100.00 g of water by 50.0 K is 2.09e+04 J.\n"
          ],
          "name": "stdout"
        }
      ]
    },
    {
      "cell_type": "code",
      "metadata": {
        "id": "H2_KDd5sghgx",
        "colab_type": "code",
        "colab": {
          "base_uri": "https://localhost:8080/",
          "height": 67
        },
        "outputId": "2bfbd534-2d32-40ab-eba3-07df14e4d5fc"
      },
      "source": [
        "#HW sets have more than 1 question, so let's solve this in a way that allows us to answer multiple questions of the same type.\n",
        "def mol_water(m):\n",
        "  return m/18\n",
        "Cp_water = 75.4 # J/mol/K, this could also be represented by a function as Cp changes with temperature.\n",
        "def delT(T1,T2):\n",
        "  return T2 - T1\n",
        "def heat(m,T1,T2):\n",
        "  return mol_water(m) * Cp_water * delT(T1,T2)\n",
        "print(heat(100,25,75), \"J\")\n",
        "print(\"{0:.3g} J\".format(heat(100,25,75)))\n",
        "print(\"The heat required to raise the temperature of {0:.2f} mol of water by {1:.1f} K is {2:.3g} J.\".format(mol_water(100),delT(25,75),heat(100,25,75)))"
      ],
      "execution_count": null,
      "outputs": [
        {
          "output_type": "stream",
          "text": [
            "20944.444444444445 J\n",
            "2.09e+04 J\n",
            "The heat required to raise the temperature of 5.56 mol of water by 50.0 K is 2.09e+04 J.\n"
          ],
          "name": "stdout"
        }
      ]
    },
    {
      "cell_type": "code",
      "metadata": {
        "id": "hlDZSEeeAM0i",
        "colab_type": "code",
        "colab": {
          "base_uri": "https://localhost:8080/",
          "height": 84
        },
        "outputId": "8c07761b-1e09-41ba-e813-03d061e228db"
      },
      "source": [
        "#Let's compute the mean (and more!) of a list using...\n",
        "from scipy import stats as st\n",
        "list = [65.1,83.5,69.9]\n",
        "#my own function,\n",
        "def mean(a):\n",
        "  running_sum = 0\n",
        "  index = 0\n",
        "  for i in a:\n",
        "    running_sum = running_sum + i\n",
        "    index = index + 1\n",
        "  return running_sum/index\n",
        "print(mean(list))\n",
        "#built-in summation and count functions,\n",
        "print(sum(list)/len(list))\n",
        "#and a library (this is the \"and more\" from earlier).\n",
        "print(st.describe(list))\n",
        "print(st.tstd(list))"
      ],
      "execution_count": null,
      "outputs": [
        {
          "output_type": "stream",
          "text": [
            "72.83333333333333\n",
            "72.83333333333333\n",
            "DescribeResult(nobs=3, minmax=(65.1, 83.5), mean=72.83333333333333, variance=91.09333333333336, skewness=0.5112859614859505, kurtosis=-1.4999999999999991)\n",
            "9.544282756359085\n"
          ],
          "name": "stdout"
        }
      ]
    },
    {
      "cell_type": "code",
      "metadata": {
        "id": "4l3gzSk8ESWE",
        "colab_type": "code",
        "colab": {
          "base_uri": "https://localhost:8080/",
          "height": 70
        },
        "outputId": "3c214287-f862-4288-f387-7b062ec338cc"
      },
      "source": [
        "#Analzying the distribution of chemical shift data, Mark is an NMR spectroscopist so strap in folks.\n",
        "import pandas as pd\n",
        "import matplotlib.pyplot as plt\n",
        "from scipy import stats as st\n",
        "import seaborn as sns"
      ],
      "execution_count": null,
      "outputs": [
        {
          "output_type": "stream",
          "text": [
            "/usr/local/lib/python3.6/dist-packages/statsmodels/tools/_testing.py:19: FutureWarning: pandas.util.testing is deprecated. Use the functions in the public API at pandas.testing instead.\n",
            "  import pandas.util.testing as tm\n"
          ],
          "name": "stderr"
        }
      ]
    },
    {
      "cell_type": "code",
      "metadata": {
        "id": "lQwTTTy3EyNF",
        "colab_type": "code",
        "colab": {
          "base_uri": "https://localhost:8080/",
          "height": 195
        },
        "outputId": "145747af-ad6b-4dfa-d391-d8133a087f64"
      },
      "source": [
        "#Load the data into your notebook...\n",
        "data_url='http://www.bmrb.wisc.edu/ftp/pub/bmrb/statistics/chem_shifts/full/devise/TRP_HE1_sel.txt'\n",
        "df = pd.read_csv(data_url, names=(\"id\",\"mol\",\"282\",\"resi\",\"resn\",\"name\",\"element\",\"shift\",\"n\"))\n",
        "df.head()"
      ],
      "execution_count": null,
      "outputs": [
        {
          "output_type": "execute_result",
          "data": {
            "text/html": [
              "<div>\n",
              "<style scoped>\n",
              "    .dataframe tbody tr th:only-of-type {\n",
              "        vertical-align: middle;\n",
              "    }\n",
              "\n",
              "    .dataframe tbody tr th {\n",
              "        vertical-align: top;\n",
              "    }\n",
              "\n",
              "    .dataframe thead th {\n",
              "        text-align: right;\n",
              "    }\n",
              "</style>\n",
              "<table border=\"1\" class=\"dataframe\">\n",
              "  <thead>\n",
              "    <tr style=\"text-align: right;\">\n",
              "      <th></th>\n",
              "      <th>id</th>\n",
              "      <th>mol</th>\n",
              "      <th>282</th>\n",
              "      <th>resi</th>\n",
              "      <th>resn</th>\n",
              "      <th>name</th>\n",
              "      <th>element</th>\n",
              "      <th>shift</th>\n",
              "      <th>n</th>\n",
              "    </tr>\n",
              "  </thead>\n",
              "  <tbody>\n",
              "    <tr>\n",
              "      <th>0</th>\n",
              "      <td>15835</td>\n",
              "      <td>protein</td>\n",
              "      <td>282</td>\n",
              "      <td>149</td>\n",
              "      <td>TRP</td>\n",
              "      <td>HE1</td>\n",
              "      <td>H</td>\n",
              "      <td>-1.2790</td>\n",
              "      <td>1</td>\n",
              "    </tr>\n",
              "    <tr>\n",
              "      <th>1</th>\n",
              "      <td>36103</td>\n",
              "      <td>protein</td>\n",
              "      <td>282</td>\n",
              "      <td>32</td>\n",
              "      <td>TRP</td>\n",
              "      <td>HE1</td>\n",
              "      <td>H</td>\n",
              "      <td>4.6900</td>\n",
              "      <td>1</td>\n",
              "    </tr>\n",
              "    <tr>\n",
              "      <th>2</th>\n",
              "      <td>6934</td>\n",
              "      <td>protein</td>\n",
              "      <td>282</td>\n",
              "      <td>127</td>\n",
              "      <td>TRP</td>\n",
              "      <td>HE1</td>\n",
              "      <td>H</td>\n",
              "      <td>5.0000</td>\n",
              "      <td>4</td>\n",
              "    </tr>\n",
              "    <tr>\n",
              "      <th>3</th>\n",
              "      <td>17246</td>\n",
              "      <td>protein</td>\n",
              "      <td>282</td>\n",
              "      <td>65</td>\n",
              "      <td>TRP</td>\n",
              "      <td>HE1</td>\n",
              "      <td>H</td>\n",
              "      <td>5.0290</td>\n",
              "      <td>1</td>\n",
              "    </tr>\n",
              "    <tr>\n",
              "      <th>4</th>\n",
              "      <td>16933</td>\n",
              "      <td>protein</td>\n",
              "      <td>282</td>\n",
              "      <td>59</td>\n",
              "      <td>TRP</td>\n",
              "      <td>HE1</td>\n",
              "      <td>H</td>\n",
              "      <td>5.1154</td>\n",
              "      <td>1</td>\n",
              "    </tr>\n",
              "  </tbody>\n",
              "</table>\n",
              "</div>"
            ],
            "text/plain": [
              "      id      mol  282  resi resn name element   shift  n\n",
              "0  15835  protein  282   149  TRP  HE1       H -1.2790  1\n",
              "1  36103  protein  282    32  TRP  HE1       H  4.6900  1\n",
              "2   6934  protein  282   127  TRP  HE1       H  5.0000  4\n",
              "3  17246  protein  282    65  TRP  HE1       H  5.0290  1\n",
              "4  16933  protein  282    59  TRP  HE1       H  5.1154  1"
            ]
          },
          "metadata": {
            "tags": []
          },
          "execution_count": 79
        }
      ]
    },
    {
      "cell_type": "code",
      "metadata": {
        "id": "CAVuVSWpFQX8",
        "colab_type": "code",
        "colab": {
          "base_uri": "https://localhost:8080/",
          "height": 284
        },
        "outputId": "2f396636-77f8-45b5-d056-8d564cb44acd"
      },
      "source": [
        "#This describes numeric data types; id, 282, and resi are recognized, but only the shift column is relevant.\n",
        "df.describe()"
      ],
      "execution_count": null,
      "outputs": [
        {
          "output_type": "execute_result",
          "data": {
            "text/html": [
              "<div>\n",
              "<style scoped>\n",
              "    .dataframe tbody tr th:only-of-type {\n",
              "        vertical-align: middle;\n",
              "    }\n",
              "\n",
              "    .dataframe tbody tr th {\n",
              "        vertical-align: top;\n",
              "    }\n",
              "\n",
              "    .dataframe thead th {\n",
              "        text-align: right;\n",
              "    }\n",
              "</style>\n",
              "<table border=\"1\" class=\"dataframe\">\n",
              "  <thead>\n",
              "    <tr style=\"text-align: right;\">\n",
              "      <th></th>\n",
              "      <th>id</th>\n",
              "      <th>282</th>\n",
              "      <th>resi</th>\n",
              "      <th>shift</th>\n",
              "    </tr>\n",
              "  </thead>\n",
              "  <tbody>\n",
              "    <tr>\n",
              "      <th>count</th>\n",
              "      <td>9133.000000</td>\n",
              "      <td>9133.0</td>\n",
              "      <td>9133.000000</td>\n",
              "      <td>9133.000000</td>\n",
              "    </tr>\n",
              "    <tr>\n",
              "      <th>mean</th>\n",
              "      <td>15517.084857</td>\n",
              "      <td>282.0</td>\n",
              "      <td>58.873426</td>\n",
              "      <td>10.091812</td>\n",
              "    </tr>\n",
              "    <tr>\n",
              "      <th>std</th>\n",
              "      <td>9032.072878</td>\n",
              "      <td>0.0</td>\n",
              "      <td>47.376556</td>\n",
              "      <td>1.452586</td>\n",
              "    </tr>\n",
              "    <tr>\n",
              "      <th>min</th>\n",
              "      <td>5.000000</td>\n",
              "      <td>282.0</td>\n",
              "      <td>1.000000</td>\n",
              "      <td>-1.279000</td>\n",
              "    </tr>\n",
              "    <tr>\n",
              "      <th>25%</th>\n",
              "      <td>6782.000000</td>\n",
              "      <td>282.0</td>\n",
              "      <td>24.000000</td>\n",
              "      <td>9.910000</td>\n",
              "    </tr>\n",
              "    <tr>\n",
              "      <th>50%</th>\n",
              "      <td>16195.000000</td>\n",
              "      <td>282.0</td>\n",
              "      <td>47.000000</td>\n",
              "      <td>10.130000</td>\n",
              "    </tr>\n",
              "    <tr>\n",
              "      <th>75%</th>\n",
              "      <td>19483.000000</td>\n",
              "      <td>282.0</td>\n",
              "      <td>84.000000</td>\n",
              "      <td>10.355000</td>\n",
              "    </tr>\n",
              "    <tr>\n",
              "      <th>max</th>\n",
              "      <td>50409.000000</td>\n",
              "      <td>282.0</td>\n",
              "      <td>392.000000</td>\n",
              "      <td>131.711000</td>\n",
              "    </tr>\n",
              "  </tbody>\n",
              "</table>\n",
              "</div>"
            ],
            "text/plain": [
              "                 id     282         resi        shift\n",
              "count   9133.000000  9133.0  9133.000000  9133.000000\n",
              "mean   15517.084857   282.0    58.873426    10.091812\n",
              "std     9032.072878     0.0    47.376556     1.452586\n",
              "min        5.000000   282.0     1.000000    -1.279000\n",
              "25%     6782.000000   282.0    24.000000     9.910000\n",
              "50%    16195.000000   282.0    47.000000    10.130000\n",
              "75%    19483.000000   282.0    84.000000    10.355000\n",
              "max    50409.000000   282.0   392.000000   131.711000"
            ]
          },
          "metadata": {
            "tags": []
          },
          "execution_count": 83
        }
      ]
    },
    {
      "cell_type": "code",
      "metadata": {
        "id": "2BcCQmmeFfFg",
        "colab_type": "code",
        "colab": {
          "base_uri": "https://localhost:8080/",
          "height": 314
        },
        "outputId": "76346eaf-4667-4fd4-e39d-9309f0445313"
      },
      "source": [
        "df.hist('shift', bins=100)\n",
        "#Representing the frequency of all the data - outliers! Let's exlude those beyond 3 standard deviations (refer to df.describe above)."
      ],
      "execution_count": null,
      "outputs": [
        {
          "output_type": "execute_result",
          "data": {
            "text/plain": [
              "array([[<matplotlib.axes._subplots.AxesSubplot object at 0x7f521222dcc0>]],\n",
              "      dtype=object)"
            ]
          },
          "metadata": {
            "tags": []
          },
          "execution_count": 56
        },
        {
          "output_type": "display_data",
          "data": {
            "image/png": "[encoded data removed]",
            "text/plain": [
              "<Figure size 432x288 with 1 Axes>"
            ]
          },
          "metadata": {
            "tags": [],
            "needs_background": "light"
          }
        }
      ]
    },
    {
      "cell_type": "code",
      "metadata": {
        "id": "q_w9UBp2Fo8e",
        "colab_type": "code",
        "colab": {
          "base_uri": "https://localhost:8080/",
          "height": 281
        },
        "outputId": "89e64298-70b6-49b8-870e-5a7ccf3a191c"
      },
      "source": [
        "df2 = df.loc[(df['shift'] > 7) & (df['shift'] < 14)]\n",
        "samples = df2['shift'].tolist()\n",
        "df.hist('shift', range=(7,14), bins=100)\n",
        "plt.show()"
      ],
      "execution_count": null,
      "outputs": [
        {
          "output_type": "display_data",
          "data": {
            "image/png": "[encoded data removed]",
            "text/plain": [
              "<Figure size 432x288 with 1 Axes>"
            ]
          },
          "metadata": {
            "tags": [],
            "needs_background": "light"
          }
        }
      ]
    },
    {
      "cell_type": "code",
      "metadata": {
        "id": "5cfgXqIWNdrW",
        "colab_type": "code",
        "colab": {
          "base_uri": "https://localhost:8080/",
          "height": 34
        },
        "outputId": "92087b24-e764-4ae6-f979-b5fcbb7ccc93"
      },
      "source": [
        "r = st.describe(samples)\n",
        "r"
      ],
      "execution_count": null,
      "outputs": [
        {
          "output_type": "execute_result",
          "data": {
            "text/plain": [
              "DescribeResult(nobs=9040, minmax=(7.0089999999999995, 13.49), mean=10.118849395575221, variance=0.3012070142058683, skewness=-0.5765130287273053, kurtosis=5.697000087163614)"
            ]
          },
          "metadata": {
            "tags": []
          },
          "execution_count": 85
        }
      ]
    },
    {
      "cell_type": "code",
      "metadata": {
        "id": "cz662Y_KNmXO",
        "colab_type": "code",
        "colab": {
          "base_uri": "https://localhost:8080/",
          "height": 34
        },
        "outputId": "d7f3cebb-38b4-4389-9299-7ffeb4902016"
      },
      "source": [
        "(mu, sigma) = st.norm.fit(samples)\n",
        "print(\"Chemical Shift Mean: {0:.2f} +/- {1:.2f} ppm.\".format(mu, sigma))"
      ],
      "execution_count": null,
      "outputs": [
        {
          "output_type": "stream",
          "text": [
            "Chemical Shift Mean: 10.12 +/- 0.55 ppm.\n"
          ],
          "name": "stdout"
        }
      ]
    },
    {
      "cell_type": "code",
      "metadata": {
        "id": "y7VhUZOrN4Cv",
        "colab_type": "code",
        "colab": {
          "base_uri": "https://localhost:8080/",
          "height": 282
        },
        "outputId": "b77efdbf-d5c0-4728-e8b3-7db52cd849c5"
      },
      "source": [
        "ax = sns.distplot(samples, bins=100, kde=False, fit=st.norm)\n",
        "ax.set_xlim([14,7])\n",
        "#This is not a good fit of these data. Let's try a different fit."
      ],
      "execution_count": null,
      "outputs": [
        {
          "output_type": "execute_result",
          "data": {
            "text/plain": [
              "(14.0, 7.0)"
            ]
          },
          "metadata": {
            "tags": []
          },
          "execution_count": 87
        },
        {
          "output_type": "display_data",
          "data": {
            "image/png": "[encoded data removed]",
            "text/plain": [
              "<Figure size 432x288 with 1 Axes>"
            ]
          },
          "metadata": {
            "tags": [],
            "needs_background": "light"
          }
        }
      ]
    },
    {
      "cell_type": "code",
      "metadata": {
        "id": "pwJWlGl9OEo4",
        "colab_type": "code",
        "colab": {
          "base_uri": "https://localhost:8080/",
          "height": 282
        },
        "outputId": "95cb2b8b-932d-4801-b760-df4e1e213e84"
      },
      "source": [
        "ax = sns.distplot(samples, bins=100, kde=False, fit=st.laplace)\n",
        "ax.set_xlim([14,7])\n",
        "#This is a Laplacian distribution. It is a better fit for these data. What physical phenomenon can be described by a Laplacian? What does this tell us about the distribution of chemical shifts?"
      ],
      "execution_count": null,
      "outputs": [
        {
          "output_type": "execute_result",
          "data": {
            "text/plain": [
              "(14.0, 7.0)"
            ]
          },
          "metadata": {
            "tags": []
          },
          "execution_count": 88
        },
        {
          "output_type": "display_data",
          "data": {
            "image/png": "[encoded data removed]",
            "text/plain": [
              "<Figure size 432x288 with 1 Axes>"
            ]
          },
          "metadata": {
            "tags": [],
            "needs_background": "light"
          }
        }
      ]
    }
  ]
}